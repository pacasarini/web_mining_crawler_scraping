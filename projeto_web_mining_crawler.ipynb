{
  "nbformat": 4,
  "nbformat_minor": 0,
  "metadata": {
    "colab": {
      "provenance": [],
      "include_colab_link": true
    },
    "kernelspec": {
      "name": "python3",
      "display_name": "Python 3"
    },
    "language_info": {
      "name": "python"
    }
  },
  "cells": [
    {
      "cell_type": "markdown",
      "metadata": {
        "id": "view-in-github",
        "colab_type": "text"
      },
      "source": [
        "<a href=\"https://colab.research.google.com/github/pacasarini/web_mining_crawler_scraping/blob/main/projeto_web_mining_crawler.ipynb\" target=\"_parent\"><img src=\"https://colab.research.google.com/assets/colab-badge.svg\" alt=\"Open In Colab\"/></a>"
      ]
    },
    {
      "cell_type": "markdown",
      "source": [
        "##Faculdade Impacta\n",
        "##Projeto de Web Mining & Crawler Scraping\n",
        "##Prof. Fernando de Sequeira\n",
        "\n",
        "##Grupo:\n",
        "##- Alexandre\n",
        "##- Arthur Bassetti\n",
        "##- Luis Thiago Amorim de Moura\n",
        "##- Paula Cristina Casarini\n",
        "\n",
        "##Para este projeto escolhemos o banco de dados do eBit: https://www.ebit.com.br/reputacao-de-lojas.\n",
        "##Nossa finalidade será realizar uma análise de sentimentos de opiniões sobre empresas por meio das avaliações contidas neste banco de dados.\n",
        "\n",
        "\n",
        "\n"
      ],
      "metadata": {
        "id": "f2owh9lRZl0x"
      }
    },
    {
      "cell_type": "markdown",
      "source": [
        "##Etapas:\n",
        "Entendimento dos Dados<br>\n",
        "A etapa de entendimento dos dados deve envolver a coleta e a descrição dos dados coletados (formato, tamanho, tipo dos dados, etc.)<br>\n",
        "<br>\n",
        "Preparação dos Dados<br>\n",
        "A preparação dos dados deve envolver a extração do conteúdo textual, processamento linguístico necessário para o problema, e criação do vetor de características.<br>\n",
        "<br>\n",
        "Modelagem<br>\n",
        "O trabalho deverá aplicar um modelo de  nos dados coletados e preparados e aplicar qualquer algoritmo de classificação, agrupamento ou recuperação de informação.<br>\n",
        "<br>\n",
        "Avaliação<br>\n",
        "A etapa de avaliação deve mostrar os resultados dos modelos aplicados, comparando e mostrando as conclusões.<br>\n"
      ],
      "metadata": {
        "id": "s5W1d3qc2Auv"
      }
    },
    {
      "cell_type": "markdown",
      "source": [
        "##Importando as Bibliotecas"
      ],
      "metadata": {
        "id": "YvgbZm1N5RBT"
      }
    },
    {
      "cell_type": "code",
      "execution_count": 4,
      "metadata": {
        "id": "1rSkasdFZTSo"
      },
      "outputs": [],
      "source": [
        "import requests\n",
        "import os\n",
        "import pandas as pd"
      ]
    },
    {
      "cell_type": "markdown",
      "source": [
        "###Através do menu \"Inspecionar\" do browser, identificamos que se tratava de uma pagina dinamica em javascript que é alimentada por conteúdo em json, na seguinte url: https://reputation-api.ebit.com.br/reputation/getall?active=true&shuffle=true&medal={tipo} , onde existem quatro tipos (diamante, ouro, prata e bronze), totalizando o total de 458 empresas. Por este motivo não foi possível/necessária a utilização da biblioteca 'BeautifulSoup'."
      ],
      "metadata": {
        "id": "glAnFeOz7VTL"
      }
    },
    {
      "cell_type": "code",
      "source": [
        "#separando as empresas por tipos\n",
        "tipos = ['diamante', 'ouro', 'prata', 'bronze']\n",
        "\n",
        "dados_dict = []\n",
        "for tipo in tipos:\n",
        "  url = f'https://reputation-api.ebit.com.br/reputation/getall?active=true&shuffle=true&medal={tipo}'\n",
        "  headers = {\n",
        "      'user-agent': 'Mozilla/5.0 (Windows NT 10.0; Win64; x64) AppleWebKit/537.36 (KHTML, like Gecko) Chrome/117.0.0.0 Safari/537.36 Edg/117.0.2045.36'\n",
        "  }\n",
        "  response = requests.get(url, headers=headers)\n",
        "\n",
        "  dados = response.json()\n",
        "  print(f'Quantidade de empresas que são {tipo}: ' + str(dados['Count']))\n",
        "\n",
        "  for x in dados['Data']:\n",
        "    dados_dict.append(x)\n"
      ],
      "metadata": {
        "colab": {
          "base_uri": "https://localhost:8080/"
        },
        "id": "vJYYeDvdcsNO",
        "outputId": "5afb5ecb-47e0-4d70-c08c-4943790cbd17"
      },
      "execution_count": 5,
      "outputs": [
        {
          "output_type": "stream",
          "name": "stdout",
          "text": [
            "Quantidade de empresas que são diamante: 72\n",
            "Quantidade de empresas que são ouro: 10\n",
            "Quantidade de empresas que são prata: 2\n",
            "Quantidade de empresas que são bronze: 374\n"
          ]
        }
      ]
    },
    {
      "cell_type": "code",
      "source": [
        "dados_dict[0]   # verificando o retorno da coleta para verificar as informações que ela traz"
      ],
      "metadata": {
        "colab": {
          "base_uri": "https://localhost:8080/"
        },
        "id": "CQqhvOrsfO7S",
        "outputId": "2324d447-278b-4080-e579-ed9dc63b8458"
      },
      "execution_count": 6,
      "outputs": [
        {
          "output_type": "execute_result",
          "data": {
            "text/plain": [
              "{'Id': 2637,\n",
              " 'Date': '2023-10-05T00:00:00',\n",
              " 'Medal': 'Diamante',\n",
              " 'DeliveryTime': 97.36842105263158,\n",
              " 'ReturnPurchase': 81.57894736842105,\n",
              " 'FriendRecommendation': 64.11,\n",
              " 'CompanyName': 'Zelo',\n",
              " 'CompanyDescription': 'A Zelo é especializada em artigos para cama, mesa e banho, tendo inclusive uma linha própria de produtos, além das marcas tradicionais do mercado. Na loja virtual você recebe dicas de como montar o seu enxoval e de como lavar adequadamente os produtos.',\n",
              " 'StoreUrl': 'www.zelo.com.br',\n",
              " 'EbitUrlName': 'Zelo',\n",
              " 'CompanyStatus': 'Ativa',\n",
              " 'QuantitySurveys': 78038,\n",
              " 'CompanySearch': 'Zelo',\n",
              " 'MedalId': 0,\n",
              " 'CompanyType': 'Loja',\n",
              " 'FlagLgpd': 0}"
            ]
          },
          "metadata": {},
          "execution_count": 6
        }
      ]
    },
    {
      "cell_type": "code",
      "source": [
        "#Funcao Salvar arquivo: vai pegar o conteudo do json (dicionário) e salvar cada empresa em seu respectivo diretório, separada entre as categorias. Os comentários dos usurarios serao salvos em 3 arquivos separados: elogio.txt, reclamacao.txt e sugestao.txt\n",
        "def salva_arquivo(pasta, nome_arquivo, conteudo):\n",
        "  if not os.path.isdir(pasta):\n",
        "    os.makedirs(pasta, exist_ok=True)\n",
        "  with open(f'{pasta}/{nome_arquivo}', 'a+', encoding='utf-8') as file:\n",
        "    file.write(conteudo)"
      ],
      "metadata": {
        "id": "rf3T-aGM58P4"
      },
      "execution_count": 8,
      "outputs": []
    },
    {
      "cell_type": "code",
      "source": [
        "#Criando um DataFrame vazio para receber informações dos Comentarios para analise de Sentimentos\n",
        "df = pd.DataFrame(columns=[\n",
        "    'Id',\n",
        "    'CompanyId',\n",
        "    'Name',\n",
        "    'AnswerDate',\n",
        "    'CommentaryType',\n",
        "    'Commentary',\n",
        "    'Likes',\n",
        "    'Dislikes',\n",
        "    'CompanyName'\n",
        "])"
      ],
      "metadata": {
        "id": "BzUw32dd59EI"
      },
      "execution_count": 9,
      "outputs": []
    },
    {
      "cell_type": "code",
      "source": [
        "#Gerar Arquivos com os comentarios e um DataFrame\n",
        "for x in dados_dict:\n",
        "  id = x['Id']\n",
        "  medal = x['Medal']\n",
        "  company = x['CompanyName']\n",
        "\n",
        "  url = 'https://reputation-api.ebit.com.br/reputation/getCommentaries?companyId={}&type=&offset=0&qty=100'.format(id)\n",
        "  headers = {\n",
        "      'user-agent': 'Mozilla/5.0 (Windows NT 10.0; Win64; x64) AppleWebKit/537.36 (KHTML, like Gecko) Chrome/117.0.0.0 Safari/537.36 Edg/117.0.2045.36'\n",
        "  }\n",
        "  response = requests.get(url, headers=headers)\n",
        "\n",
        "  dados = response.json()\n",
        "  for i in dados['Data']:\n",
        "    comentaryType = i['CommentaryType']\n",
        "    comentary = i['Commentary']\n",
        "    caminhoArquivo = medal + '/' + company + '/' + '/'\n",
        "    salva_arquivo(caminhoArquivo, (comentaryType + '.txt'), (comentary + ' '))\n",
        "    #Criar um DataFrame temporario e inserir cada json no Dataframe \"df\"\n",
        "    i['CompanyName'] = company #O dicionario de Comentarios recebe o campo CompanyName\n",
        "    temp_df = pd.DataFrame([i])\n",
        "    df = pd.concat([df, temp_df], ignore_index=True)"
      ],
      "metadata": {
        "id": "miBRWhQW5_Ue"
      },
      "execution_count": 10,
      "outputs": []
    },
    {
      "cell_type": "code",
      "source": [
        "df.head()"
      ],
      "metadata": {
        "id": "4nEsG4xD6CFC"
      },
      "execution_count": null,
      "outputs": []
    }
  ]
}