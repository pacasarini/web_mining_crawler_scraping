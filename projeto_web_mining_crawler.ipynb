{
  "nbformat": 4,
  "nbformat_minor": 0,
  "metadata": {
    "colab": {
      "provenance": [],
      "authorship_tag": "ABX9TyOLXvFfvPn/x+2Daqy6aRcP",
      "include_colab_link": true
    },
    "kernelspec": {
      "name": "python3",
      "display_name": "Python 3"
    },
    "language_info": {
      "name": "python"
    }
  },
  "cells": [
    {
      "cell_type": "markdown",
      "metadata": {
        "id": "view-in-github",
        "colab_type": "text"
      },
      "source": [
        "<a href=\"https://colab.research.google.com/github/pacasarini/web_mining_crawler_scraping/blob/main/projeto_web_mining_crawler.ipynb\" target=\"_parent\"><img src=\"https://colab.research.google.com/assets/colab-badge.svg\" alt=\"Open In Colab\"/></a>"
      ]
    },
    {
      "cell_type": "markdown",
      "source": [
        "Faculdade Impacta\n",
        "Projeto de Web Mining & Crawler Scraping\n",
        "Prof. Fernando de Sequeira\n",
        "\n",
        "Grupo\n",
        "Arthur Bassetti\n",
        "Luis Thiago Amorim de Moura\n",
        "Paula Cristina Casarini\n",
        "\n",
        "Para este projeto escolhemos o banco de dados do eBit: https://www.ebit.com.br/reputacao-de-lojas. <br>\n",
        "Nossa finalidade será realizar uma análise de sentimentos de opiniões sobre empresas por meio das avaliações contidas neste banco de dados.\n",
        "\n",
        "\n",
        "\n"
      ],
      "metadata": {
        "id": "f2owh9lRZl0x"
      }
    },
    {
      "cell_type": "code",
      "execution_count": 1,
      "metadata": {
        "id": "1rSkasdFZTSo",
        "colab": {
          "base_uri": "https://localhost:8080/",
          "height": 105
        },
        "outputId": "2c6b9162-e970-49df-efb3-846d08c4b2e3"
      },
      "outputs": [
        {
          "output_type": "execute_result",
          "data": {
            "text/plain": [
              "'<!doctype html><html lang=\"pt-br\"><head><meta charset=\"utf-8\"/><meta name=\"viewport\" content=\"width=device-width,initial-scale=1\"/><script async src=\"https://www.googletagmanager.com/gtag/js?id=UA-142750785-1\"></script><script>function gtag(){dataLayer.push(arguments)}window.dataLayer=window.dataLayer||[],gtag(\"js\",new Date),gtag(\"config\",\"UA-142750785-1\")</script><script>!function(e,t,a,n,g){e[n]=e[n]||[],e[n].push({\"gtm.start\":(new Date).getTime(),event:\"gtm.js\"});var m=t.getElementsByTagName(a)[0],r=t.createElement(a);r.async=!0,r.src=\"https://www.googletagmanager.com/gtm.js?id=GTM-T5ZD8Q7\",m.parentNode.insertBefore(r,m)}(window,document,\"script\",\"dataLayer\")</script><link href=\"https://nielseniq.com/wp-content/uploads/sites/4/2020/10/cropped-NielsenIQ_Favicon_Green-1.png?w=180\" rel=\"shortcut icon\" type=\"image/x-icon\"/><link href=\"https://nielseniq.com/wp-content/uploads/sites/4/2020/10/cropped-NielsenIQ_Favicon_Green-1.png?w=180\" rel=\"icon\" type=\"image/x-icon\"/><link rel=\"stylesheet\" href=\"https://maxcdn.bootstrapcdn.com/bootstrap/4.5.0/css/bootstrap.min.css\" integrity=\"sha384-9aIt2nRpC12Uk9gS9baDl411NQApFmC26EwAOH8WgZl5MYYxFfc+NcPb1dKGj7Sk\" crossorigin=\"anonymous\"/><link rel=\"stylesheet\" href=\"https://cdnjs.cloudflare.com/ajax/libs/font-awesome/4.7.0/css/font-awesome.min.css\"><link href=\"https://fonts.googleapis.com/css2?family=Poppins:wght@100;200;300;400;500;600;700&display=swap\" rel=\"stylesheet\"><link rel=\"preconnect\" href=\"https://fonts.gstatic.com\"><link href=\"https://fonts.googleapis.com/css2?family=Montserrat:wght@100;200;300;400;500;600;700&display=swap\" rel=\"stylesheet\"><title>Ebit - ReputaÃ§Ã£o de lojas virtuais e dados para o mercado online</title><meta name=\"description\" content=\"A Ebit mede a reputaÃ§Ã£o das lojas virtuais por meio de pesquisas com consumidores reais, gerando dados estratÃ©gicos e tÃ¡ticas para o mercado online.\"/><script defer=\"defer\" src=\"/static/js/main.6687aaf9.js\"></script><link href=\"/static/css/main.d03d60a8.css\" rel=\"stylesheet\"></head><body><noscript><iframe src=\"https://www.googletagmanager.com/ns.html?id=GTM-T5ZD8Q7\" height=\"0\" width=\"0\" style=\"display:none;visibility:hidden\"></iframe></noscript><div id=\"root\"></div><script src=\"https://unpkg.com/react/umd/react.production.min.js\" crossorigin></script><script src=\"https://unpkg.com/react-dom/umd/react-dom.production.min.js\" crossorigin></script><script src=\"https://unpkg.com/react-bootstrap@next/dist/react-bootstrap.min.js\" crossorigin></script></body></html>'"
            ],
            "application/vnd.google.colaboratory.intrinsic+json": {
              "type": "string"
            }
          },
          "metadata": {},
          "execution_count": 1
        }
      ],
      "source": [
        "import requests\n",
        "response = requests.get('https://www.ebit.com.br/reputacao-de-lojas')\n",
        "html = response.text\n",
        "html"
      ]
    },
    {
      "cell_type": "code",
      "source": [
        "from bs4 import BeautifulSoup\n",
        "\n",
        "bs = BeautifulSoup(html, 'html.parser')\n",
        "bs"
      ],
      "metadata": {
        "colab": {
          "base_uri": "https://localhost:8080/"
        },
        "id": "vJYYeDvdcsNO",
        "outputId": "aeea83d8-3de5-44b1-cff0-ac3676260f72"
      },
      "execution_count": 4,
      "outputs": [
        {
          "output_type": "execute_result",
          "data": {
            "text/plain": [
              "<!DOCTYPE html>\n",
              "<html lang=\"pt-br\"><head><meta charset=\"utf-8\"/><meta content=\"width=device-width,initial-scale=1\" name=\"viewport\"/><script async=\"\" src=\"https://www.googletagmanager.com/gtag/js?id=UA-142750785-1\"></script><script>function gtag(){dataLayer.push(arguments)}window.dataLayer=window.dataLayer||[],gtag(\"js\",new Date),gtag(\"config\",\"UA-142750785-1\")</script><script>!function(e,t,a,n,g){e[n]=e[n]||[],e[n].push({\"gtm.start\":(new Date).getTime(),event:\"gtm.js\"});var m=t.getElementsByTagName(a)[0],r=t.createElement(a);r.async=!0,r.src=\"https://www.googletagmanager.com/gtm.js?id=GTM-T5ZD8Q7\",m.parentNode.insertBefore(r,m)}(window,document,\"script\",\"dataLayer\")</script><link href=\"https://nielseniq.com/wp-content/uploads/sites/4/2020/10/cropped-NielsenIQ_Favicon_Green-1.png?w=180\" rel=\"shortcut icon\" type=\"image/x-icon\"/><link href=\"https://nielseniq.com/wp-content/uploads/sites/4/2020/10/cropped-NielsenIQ_Favicon_Green-1.png?w=180\" rel=\"icon\" type=\"image/x-icon\"/><link crossorigin=\"anonymous\" href=\"https://maxcdn.bootstrapcdn.com/bootstrap/4.5.0/css/bootstrap.min.css\" integrity=\"sha384-9aIt2nRpC12Uk9gS9baDl411NQApFmC26EwAOH8WgZl5MYYxFfc+NcPb1dKGj7Sk\" rel=\"stylesheet\"/><link href=\"https://cdnjs.cloudflare.com/ajax/libs/font-awesome/4.7.0/css/font-awesome.min.css\" rel=\"stylesheet\"/><link href=\"https://fonts.googleapis.com/css2?family=Poppins:wght@100;200;300;400;500;600;700&amp;display=swap\" rel=\"stylesheet\"/><link href=\"https://fonts.gstatic.com\" rel=\"preconnect\"/><link href=\"https://fonts.googleapis.com/css2?family=Montserrat:wght@100;200;300;400;500;600;700&amp;display=swap\" rel=\"stylesheet\"/><title>Ebit - ReputaÃ§Ã£o de lojas virtuais e dados para o mercado online</title><meta content=\"A Ebit mede a reputaÃ§Ã£o das lojas virtuais por meio de pesquisas com consumidores reais, gerando dados estratÃ©gicos e tÃ¡ticas para o mercado online.\" name=\"description\"/><script defer=\"defer\" src=\"/static/js/main.6687aaf9.js\"></script><link href=\"/static/css/main.d03d60a8.css\" rel=\"stylesheet\"/></head><body><noscript><iframe height=\"0\" src=\"https://www.googletagmanager.com/ns.html?id=GTM-T5ZD8Q7\" style=\"display:none;visibility:hidden\" width=\"0\"></iframe></noscript><div id=\"root\"></div><script crossorigin=\"\" src=\"https://unpkg.com/react/umd/react.production.min.js\"></script><script crossorigin=\"\" src=\"https://unpkg.com/react-dom/umd/react-dom.production.min.js\"></script><script crossorigin=\"\" src=\"https://unpkg.com/react-bootstrap@next/dist/react-bootstrap.min.js\"></script></body></html>"
            ]
          },
          "metadata": {},
          "execution_count": 4
        }
      ]
    },
    {
      "cell_type": "code",
      "source": [],
      "metadata": {
        "id": "CQqhvOrsfO7S"
      },
      "execution_count": null,
      "outputs": []
    }
  ]
}